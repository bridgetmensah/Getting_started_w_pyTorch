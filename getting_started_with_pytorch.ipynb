{
  "nbformat": 4,
  "nbformat_minor": 0,
  "metadata": {
    "colab": {
      "provenance": [],
      "authorship_tag": "ABX9TyMWjbjlKW2Opl7R3zximYWs",
      "include_colab_link": true
    },
    "kernelspec": {
      "name": "python3",
      "display_name": "Python 3"
    },
    "language_info": {
      "name": "python"
    }
  },
  "cells": [
    {
      "cell_type": "markdown",
      "metadata": {
        "id": "view-in-github",
        "colab_type": "text"
      },
      "source": [
        "<a href=\"https://colab.research.google.com/github/bridgetmensah/Getting_started_w_pyTorch/blob/main/getting_started_with_pytorch.ipynb\" target=\"_parent\"><img src=\"https://colab.research.google.com/assets/colab-badge.svg\" alt=\"Open In Colab\"/></a>"
      ]
    },
    {
      "cell_type": "code",
      "execution_count": 29,
      "metadata": {
        "colab": {
          "base_uri": "https://localhost:8080/",
          "height": 35
        },
        "id": "bZBj27urBJZj",
        "outputId": "9960091b-4b3b-4332-8a39-e13be36928f6"
      },
      "outputs": [
        {
          "output_type": "execute_result",
          "data": {
            "text/plain": [
              "'2.6.0+cu124'"
            ],
            "application/vnd.google.colaboratory.intrinsic+json": {
              "type": "string"
            }
          },
          "metadata": {},
          "execution_count": 29
        }
      ],
      "source": [
        "import torch\n",
        "from torch import nn # nn contains all pytorch building block for neural network\n",
        "import matplotlib.pyplot as plt\n",
        "\n",
        "#checking pytorch version\n",
        "torch.__version__\n"
      ]
    },
    {
      "cell_type": "code",
      "source": [
        "#Getting started with data (preparing and loading)\n",
        "#known parameters\n",
        "weight = 0.7\n",
        "bias = 0.3\n",
        " # creating our data\n",
        "start = 0\n",
        "end  = 1\n",
        "step = 0.02\n",
        "X= torch.arange(start,end,step).unsqueeze(dim=1) # unsqueeze adds extra dimentions\n",
        "y = weight * X + bias\n",
        "\n",
        "X[: 10], y[: 10]\n"
      ],
      "metadata": {
        "colab": {
          "base_uri": "https://localhost:8080/"
        },
        "collapsed": true,
        "id": "c6RgjXAWCGV1",
        "outputId": "f5db6667-c7ed-44f9-93cf-f1a31f467d33"
      },
      "execution_count": 30,
      "outputs": [
        {
          "output_type": "execute_result",
          "data": {
            "text/plain": [
              "(tensor([[0.0000],\n",
              "         [0.0200],\n",
              "         [0.0400],\n",
              "         [0.0600],\n",
              "         [0.0800],\n",
              "         [0.1000],\n",
              "         [0.1200],\n",
              "         [0.1400],\n",
              "         [0.1600],\n",
              "         [0.1800]]),\n",
              " tensor([[0.3000],\n",
              "         [0.3140],\n",
              "         [0.3280],\n",
              "         [0.3420],\n",
              "         [0.3560],\n",
              "         [0.3700],\n",
              "         [0.3840],\n",
              "         [0.3980],\n",
              "         [0.4120],\n",
              "         [0.4260]]))"
            ]
          },
          "metadata": {},
          "execution_count": 30
        }
      ]
    },
    {
      "cell_type": "code",
      "source": [
        "#splitting data into training and test set\n",
        "train_split = int(0.8 * len(X)) # takes 80% of the data we created\n",
        "X_train, y_train = X[: train_split], y[: train_split] #get everything upto the train split\n",
        "X_test, y_test = X[train_split :], y[train_split :] # get everything after the trainsplit\n",
        "\n",
        "len(X_train), len(y_train), len(X_test), len(y_test)"
      ],
      "metadata": {
        "colab": {
          "base_uri": "https://localhost:8080/"
        },
        "collapsed": true,
        "id": "CjTCtB9vEh2w",
        "outputId": "d7382e72-11fb-44a1-ff8d-6b1fa76379b8"
      },
      "execution_count": 31,
      "outputs": [
        {
          "output_type": "execute_result",
          "data": {
            "text/plain": [
              "(40, 40, 10, 10)"
            ]
          },
          "metadata": {},
          "execution_count": 31
        }
      ]
    },
    {
      "cell_type": "code",
      "source": [
        "#creating a model for liner regression using the data we created\n",
        "class LinearRegressionModel(nn.Module): # almost everything in pytorch inherits from nn.Module\n",
        "    def __init__(self): # this is a constructor (read documentation from real python)\n",
        "        super().__init__()\n",
        "        self.weight = nn.Parameter(torch.randn(1, requires_grad=True, dtype=torch.float))\n",
        "        self.bias = nn.Parameter(torch.randn(1, requires_grad=True, dtype=torch.float))\n",
        "\n",
        "        #forward method to define the computation in the model\n",
        "    def forward(self, X: torch.Tensor) -> torch.Tensor: # x is the input data\n",
        "        return self.weight * X + self.bias # this is the linear regression formula"
      ],
      "metadata": {
        "id": "8t99H1voGTke"
      },
      "execution_count": 32,
      "outputs": []
    },
    {
      "cell_type": "code",
      "source": [
        "# creating an instancewith our model\n",
        "torch.manual_seed(42)\n",
        "model_0 = LinearRegressionModel()\n",
        "list(model_0.parameters()) # a parameter is a value the model set itself\n",
        "model_0.state_dict()"
      ],
      "metadata": {
        "colab": {
          "base_uri": "https://localhost:8080/"
        },
        "id": "TGXVgsDzNKuu",
        "outputId": "175f9852-d1d7-4b66-c407-9991a12f9c40"
      },
      "execution_count": 33,
      "outputs": [
        {
          "output_type": "execute_result",
          "data": {
            "text/plain": [
              "OrderedDict([('weight', tensor([0.3367])), ('bias', tensor([0.1288]))])"
            ]
          },
          "metadata": {},
          "execution_count": 33
        }
      ]
    },
    {
      "cell_type": "code",
      "source": [
        "# make predictions with our model\n",
        "with torch.inference_mode():\n",
        "    y_preds = model_0(X_test)\n",
        "y_preds\n",
        "\n",
        "''' we can alos use torch.no_grad as well'''"
      ],
      "metadata": {
        "colab": {
          "base_uri": "https://localhost:8080/",
          "height": 35
        },
        "collapsed": true,
        "id": "_ZQNBhvqRd6d",
        "outputId": "b7f92ccf-e3c8-44b8-de5f-19a29b4fe786"
      },
      "execution_count": 34,
      "outputs": [
        {
          "output_type": "execute_result",
          "data": {
            "text/plain": [
              "' we can alos use torch.no_grad as well'"
            ],
            "application/vnd.google.colaboratory.intrinsic+json": {
              "type": "string"
            }
          },
          "metadata": {},
          "execution_count": 34
        }
      ]
    },
    {
      "cell_type": "code",
      "source": [
        "#let's visulaize this to see if our predictions is right\n",
        "def plot_predictions(train_data=X_train,\n",
        "                     train_labels=y_train,\n",
        "                     test_data=X_test,\n",
        "                     test_labels=y_test,\n",
        "                     predictions=None):\n",
        "  plt.figure(figsize=(10, 7))\n",
        "  plt.scatter(train_data, train_labels, c=\"b\", s=4, label=\"Training data\")\n",
        "  plt.scatter(test_data, test_labels, c=\"g\", s=4, label=\"Testing data\")\n",
        "  if predictions is not None:\n",
        "    plt.scatter(test_data, predictions, c=\"r\", s=4, label=\"Predictions\")\n",
        "  plt.legend(prop={\"size\": 14})\n",
        "  plt.xlabel(\"X\")\n",
        "  plt.ylabel(\"y\")\n",
        "  plt.show()\n",
        "\n",
        "plot_predictions(predictions= y_preds)\n",
        "\n",
        "'''we realize that our predictions are not good'''"
      ],
      "metadata": {
        "colab": {
          "base_uri": "https://localhost:8080/",
          "height": 637
        },
        "collapsed": true,
        "id": "yfZqK4NJTMud",
        "outputId": "682a9891-b292-44e8-d39a-7710b6dafbbc"
      },
      "execution_count": 49,
      "outputs": [
        {
          "output_type": "display_data",
          "data": {
            "text/plain": [
              "<Figure size 1000x700 with 1 Axes>"
            ],
            "image/png": "[encoded data removed]"
          },
          "metadata": {}
        },
        {
          "output_type": "execute_result",
          "data": {
            "text/plain": [
              "'we realize that our predictions are not good'"
            ],
            "application/vnd.google.colaboratory.intrinsic+json": {
              "type": "string"
            }
          },
          "metadata": {},
          "execution_count": 49
        }
      ]
    },
    {
      "cell_type": "code",
      "source": [
        "# let's measure how wrong our model prediction is using loss functions and an optimizer(adjust model paramters)\n",
        "'''note: lower is always better '''\n",
        "loss_fn = nn.L1Loss() # mean absolute error\n",
        "\n",
        "# set up an optmizer using SGD (stochastic graidient descent)\n",
        "optimizer = torch.optim.SGD(params=model_0.parameters(), lr=0.01) #lr is just the learning rate\n",
        "#optimizer"
      ],
      "metadata": {
        "id": "l5KrI1eWUwPk"
      },
      "execution_count": 36,
      "outputs": []
    },
    {
      "cell_type": "code",
      "source": [
        "#building a training and testing loop\n",
        "torch.manual_seed(42)\n",
        "epochs = 100 # an epoch is one loop through the data\n",
        "for epoch in range(epochs):\n",
        "    model_0.train()\n",
        "    #forward pass\n",
        "    y_pred = model_0(X_train)\n",
        "    #calculating the loss\n",
        "    loss = loss_fn(y_pred, y_train)\n",
        "    print(f\"Loss: {loss}\")\n",
        "    #optimize sero grad\n",
        "    optimizer.zero_grad()\n",
        "    #loss backward\n",
        "    loss.backward()\n",
        "    #optimizer step\n",
        "    optimizer.step()\n",
        "\n",
        "##Testing loop\n",
        "    model_0.eval() #turns off different setting not needing fro testing\n",
        "    with torch.inference_mode():\n",
        "  #the forward pass\n",
        "      test_preds = model_0(X_test)\n",
        "  #calculate the loss\n",
        "      test_loss = loss_fn(test_preds, y_test)\n",
        "\n",
        "    if epoch % 10 == 0:\n",
        "      print(f\"Epoch: {epoch} |Loss: {loss} | MAE: {test_loss}\")\n",
        "      print(model_0.state_dict())\n",
        "\n",
        "#print(model_0.state_dict()) ##this helps us to see the predicted parameters so we can compare with what we initailized\n"
      ],
      "metadata": {
        "colab": {
          "base_uri": "https://localhost:8080/"
        },
        "collapsed": true,
        "id": "fxyRK7cJdH4_",
        "outputId": "52e37d79-37a5-4dba-89d0-0cb5608a80d4"
      },
      "execution_count": 76,
      "outputs": [
        {
          "output_type": "stream",
          "name": "stdout",
          "text": [
            "Loss: 0.0025885067880153656\n",
            "Epoch: 0 |Loss: 0.0025885067880153656 | MAE: 0.008447891101241112\n",
            "OrderedDict([('weight', tensor([0.6990])), ('bias', tensor([0.3093]))])\n",
            "Loss: 0.008932482451200485\n",
            "Loss: 0.0025885067880153656\n",
            "Loss: 0.008932482451200485\n",
            "Loss: 0.0025885067880153656\n",
            "Loss: 0.008932482451200485\n",
            "Loss: 0.0025885067880153656\n",
            "Loss: 0.008932482451200485\n",
            "Loss: 0.0025885067880153656\n",
            "Loss: 0.008932482451200485\n",
            "Loss: 0.0025885067880153656\n",
            "Epoch: 10 |Loss: 0.0025885067880153656 | MAE: 0.008447891101241112\n",
            "OrderedDict([('weight', tensor([0.6990])), ('bias', tensor([0.3093]))])\n",
            "Loss: 0.008932482451200485\n",
            "Loss: 0.0025885067880153656\n",
            "Loss: 0.008932482451200485\n",
            "Loss: 0.0025885067880153656\n",
            "Loss: 0.008932482451200485\n",
            "Loss: 0.0025885067880153656\n",
            "Loss: 0.008932482451200485\n",
            "Loss: 0.0025885067880153656\n",
            "Loss: 0.008932482451200485\n",
            "Loss: 0.0025885067880153656\n",
            "Epoch: 20 |Loss: 0.0025885067880153656 | MAE: 0.008447891101241112\n",
            "OrderedDict([('weight', tensor([0.6990])), ('bias', tensor([0.3093]))])\n",
            "Loss: 0.008932482451200485\n",
            "Loss: 0.0025885067880153656\n",
            "Loss: 0.008932482451200485\n",
            "Loss: 0.0025885067880153656\n",
            "Loss: 0.008932482451200485\n",
            "Loss: 0.0025885067880153656\n",
            "Loss: 0.008932482451200485\n",
            "Loss: 0.0025885067880153656\n",
            "Loss: 0.008932482451200485\n",
            "Loss: 0.0025885067880153656\n",
            "Epoch: 30 |Loss: 0.0025885067880153656 | MAE: 0.008447891101241112\n",
            "OrderedDict([('weight', tensor([0.6990])), ('bias', tensor([0.3093]))])\n",
            "Loss: 0.008932482451200485\n",
            "Loss: 0.0025885067880153656\n",
            "Loss: 0.008932482451200485\n",
            "Loss: 0.0025885067880153656\n",
            "Loss: 0.008932482451200485\n",
            "Loss: 0.0025885067880153656\n",
            "Loss: 0.008932482451200485\n",
            "Loss: 0.0025885067880153656\n",
            "Loss: 0.008932482451200485\n",
            "Loss: 0.0025885067880153656\n",
            "Epoch: 40 |Loss: 0.0025885067880153656 | MAE: 0.008447891101241112\n",
            "OrderedDict([('weight', tensor([0.6990])), ('bias', tensor([0.3093]))])\n",
            "Loss: 0.008932482451200485\n",
            "Loss: 0.0025885067880153656\n",
            "Loss: 0.008932482451200485\n",
            "Loss: 0.0025885067880153656\n",
            "Loss: 0.008932482451200485\n",
            "Loss: 0.0025885067880153656\n",
            "Loss: 0.008932482451200485\n",
            "Loss: 0.0025885067880153656\n",
            "Loss: 0.008932482451200485\n",
            "Loss: 0.0025885067880153656\n",
            "Epoch: 50 |Loss: 0.0025885067880153656 | MAE: 0.008447891101241112\n",
            "OrderedDict([('weight', tensor([0.6990])), ('bias', tensor([0.3093]))])\n",
            "Loss: 0.008932482451200485\n",
            "Loss: 0.0025885067880153656\n",
            "Loss: 0.008932482451200485\n",
            "Loss: 0.0025885067880153656\n",
            "Loss: 0.008932482451200485\n",
            "Loss: 0.0025885067880153656\n",
            "Loss: 0.008932482451200485\n",
            "Loss: 0.0025885067880153656\n",
            "Loss: 0.008932482451200485\n",
            "Loss: 0.0025885067880153656\n",
            "Epoch: 60 |Loss: 0.0025885067880153656 | MAE: 0.008447891101241112\n",
            "OrderedDict([('weight', tensor([0.6990])), ('bias', tensor([0.3093]))])\n",
            "Loss: 0.008932482451200485\n",
            "Loss: 0.0025885067880153656\n",
            "Loss: 0.008932482451200485\n",
            "Loss: 0.0025885067880153656\n",
            "Loss: 0.008932482451200485\n",
            "Loss: 0.0025885067880153656\n",
            "Loss: 0.008932482451200485\n",
            "Loss: 0.0025885067880153656\n",
            "Loss: 0.008932482451200485\n",
            "Loss: 0.0025885067880153656\n",
            "Epoch: 70 |Loss: 0.0025885067880153656 | MAE: 0.008447891101241112\n",
            "OrderedDict([('weight', tensor([0.6990])), ('bias', tensor([0.3093]))])\n",
            "Loss: 0.008932482451200485\n",
            "Loss: 0.0025885067880153656\n",
            "Loss: 0.008932482451200485\n",
            "Loss: 0.0025885067880153656\n",
            "Loss: 0.008932482451200485\n",
            "Loss: 0.0025885067880153656\n",
            "Loss: 0.008932482451200485\n",
            "Loss: 0.0025885067880153656\n",
            "Loss: 0.008932482451200485\n",
            "Loss: 0.0025885067880153656\n",
            "Epoch: 80 |Loss: 0.0025885067880153656 | MAE: 0.008447891101241112\n",
            "OrderedDict([('weight', tensor([0.6990])), ('bias', tensor([0.3093]))])\n",
            "Loss: 0.008932482451200485\n",
            "Loss: 0.0025885067880153656\n",
            "Loss: 0.008932482451200485\n",
            "Loss: 0.0025885067880153656\n",
            "Loss: 0.008932482451200485\n",
            "Loss: 0.0025885067880153656\n",
            "Loss: 0.008932482451200485\n",
            "Loss: 0.0025885067880153656\n",
            "Loss: 0.008932482451200485\n",
            "Loss: 0.0025885067880153656\n",
            "Epoch: 90 |Loss: 0.0025885067880153656 | MAE: 0.008447891101241112\n",
            "OrderedDict([('weight', tensor([0.6990])), ('bias', tensor([0.3093]))])\n",
            "Loss: 0.008932482451200485\n",
            "Loss: 0.0025885067880153656\n",
            "Loss: 0.008932482451200485\n",
            "Loss: 0.0025885067880153656\n",
            "Loss: 0.008932482451200485\n",
            "Loss: 0.0025885067880153656\n",
            "Loss: 0.008932482451200485\n",
            "Loss: 0.0025885067880153656\n",
            "Loss: 0.008932482451200485\n"
          ]
        }
      ]
    },
    {
      "cell_type": "code",
      "source": [
        "#seeing what our model does now visually\n",
        "with torch.inference_mode():\n",
        "    y_preds_new = model_0(X_test)\n",
        "plot_predictions(predictions=y_preds_new)"
      ],
      "metadata": {
        "colab": {
          "base_uri": "https://localhost:8080/",
          "height": 619
        },
        "collapsed": true,
        "id": "zGYtagsKnzaf",
        "outputId": "cef16760-874e-4783-ba2c-8e4dbcdfb457"
      },
      "execution_count": 77,
      "outputs": [
        {
          "output_type": "display_data",
          "data": {
            "text/plain": [
              "<Figure size 1000x700 with 1 Axes>"
            ],
            "image/png": "[encoded data removed]"
          },
          "metadata": {}
        }
      ]
    },
    {
      "cell_type": "code",
      "source": [
        "## Saving a model in pyTorch\n"
      ],
      "metadata": {
        "id": "SUZKW2nlq5p9"
      },
      "execution_count": 70,
      "outputs": []
    }
  ]
}